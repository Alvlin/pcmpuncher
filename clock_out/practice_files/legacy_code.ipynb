{
 "cells": [
  {
   "cell_type": "code",
   "execution_count": 9,
   "metadata": {},
   "outputs": [],
   "source": [
    "import os\n",
    "import time\n",
    "# import pytz\n",
    "import logging\n",
    "# import schedule\n",
    "from csv import DictReader\n",
    "# from selenium import webdriver\n",
    "from dotenv import load_dotenv\n",
    "from datetime import datetime as dt\n",
    "# from selenium.webdriver.common.by import By\n",
    "# from selenium.webdriver.common.keys import Keys\n",
    "# from selenium.webdriver.chrome.service import Service\n",
    "# from selenium.webdriver.support.ui import WebDriverWait\n",
    "# from selenium.webdriver.support import expected_conditions as EC\n",
    "\n",
    "logging.basicConfig(level=logging.INFO,\n",
    "                    format='%(asctime)s - %(levelname)s - %(message)s',\n",
    "                    datefmt='[%m-%d]%I:%M:%S %p')\n",
    "in_day = \"//div[@name='button_container']//button[contains(text(),'IN DAY')]\"\n",
    "out_lunch = \"//div[@name='button_container']//button[contains(text(),'OUT LUNCH')]\"\n",
    "in_lunch = \"//div[@name='button_container']//button[contains(text(),'IN LUNCH')]\"\n",
    "out_day = \"//div[@name='button_container']//button[contains(text(),'OUT DAY')]\"\n",
    "\n",
    "# in_day = \"//*[contains(@data-url, '/v4/ee/web.php/timeclock/WEB04/punch/in-day')]\"\n",
    "# out_lunch = \"//*[contains(@data-url, '/v4/ee/web.php/timeclock/WEB04/punch/out-lunch')]\"\n",
    "# in_lunch = \"//*[contains(@data-url, '/v4/ee/web.php/timeclock/WEB04/punch/in-lunch')]\"\n",
    "# out_day = \"//*[contains(@data-url, '/v4/ee/web.php/timeclock/WEB04/punch/out-day')]\"\n",
    "\n"
   ]
  },
  {
   "cell_type": "code",
   "execution_count": 11,
   "metadata": {},
   "outputs": [
    {
     "data": {
      "text/plain": [
       "'Alvinlin425@gmail.com'"
      ]
     },
     "execution_count": 11,
     "metadata": {},
     "output_type": "execute_result"
    }
   ],
   "source": [
    "load_dotenv()"
   ]
  },
  {
   "cell_type": "code",
   "execution_count": 6,
   "metadata": {},
   "outputs": [
    {
     "name": "stdout",
     "output_type": "stream",
     "text": [
      "Load TimeClock [SUCCESS] - {18:18:58.783047}\n",
      "Scheduled  [SUCCESS]\n",
      "Logged in  [SUCCESS] - 06:18:58 PM\n",
      "in-day     [SUCCESS] - 06:18:58 PM\n"
     ]
    }
   ],
   "source": [
    "week = dt.today().weekday()\n",
    "time2 = dt.now().strftime(\"%H:%M:%S.%f\")\n",
    "status = \"in-day\"\n",
    "print('Load TimeClock [SUCCESS] - {' + str(dt.now().strftime(\"%H:%M:%S.%f\"))+ '}')\n",
    "print(f'{\"Scheduled\":10s} [SUCCESS]')\n",
    "print(f'{\"Logged in \":10s} [SUCCESS] - {dt.now().strftime(\"%I:%M:%S %p\")}')\n",
    "print(f'{status:10s} [SUCCESS] - {dt.now().strftime(\"%I:%M:%S %p\")}')"
   ]
  },
  {
   "cell_type": "code",
   "execution_count": null,
   "metadata": {},
   "outputs": [],
   "source": [
    "class gc_driver():\n",
    "    cookie_path = 'pcm_cookies.csv'\n",
    "\n",
    "    def __init__(self):\n",
    "        load_dotenv()\n",
    "        self.driver_path = Service(os.environ['GC_DRIVER_PATH'])\n",
    "        self.ff_options = webdriver.ChromeOptions()\n",
    "        self.ff_options.add_argument('--headless')\n",
    "        self.ff_options.add_argument(\"--window-size=1920,1080\")\n",
    "        self.ff_options.add_argument(\"--disable-extensions\")\n",
    "        self.ff_options.add_argument(\"--proxy-server='direct://'\")\n",
    "        self.ff_options.add_argument(\"--proxy-bypass-list=*\")\n",
    "        self.ff_options.add_argument(\"--disable-extensions\")\n",
    "        self.ff_options.add_argument(\"--disable-gpu\")\n",
    "        self.driver = webdriver.Chrome(\n",
    "            service=self.driver_path, options=self.ff_options)\n",
    "\n",
    "    def boot_gc(self):\n",
    "        pay_com_login_url = 'https://www.paycomonline.net/v4/ee/web.php/app/login'\n",
    "        self.driver.get(pay_com_login_url)\n",
    "        self.login()  # can fail if cookies expired or credentials are wrong\n",
    "        self.navi2_clock_page()  # can fail if website updates and xpath is changed\n",
    "        self.start_scheduler()\n",
    "        # print(self.driver.page_source)\n",
    "        # self.driver.close()\n",
    "\n",
    "    def login(self):\n",
    "        self.load_cookies()\n",
    "        try:\n",
    "            username = WebDriverWait(self.driver, 5).until(\n",
    "                EC.presence_of_element_located((By.XPATH, \"//*[@id= 'txtlogin']\")))\n",
    "            userpass = WebDriverWait(self.driver, 5).until(\n",
    "                EC.presence_of_element_located((By.XPATH, \"//*[@id= 'txtpass']\")))\n",
    "            userpin = WebDriverWait(self.driver, 5).until(\n",
    "                EC.presence_of_element_located((By.XPATH, \"//*[@id= 'userpinid']\")))\n",
    "            submit_btn = WebDriverWait(self.driver, 5).until(\n",
    "                EC.element_to_be_clickable((By.XPATH, \"//*[@id= 'btnSubmit']\")))\n",
    "            username.send_keys(os.environ['USER_NAME'])\n",
    "            userpass.send_keys(os.environ['USER_PASS'])\n",
    "            userpin.send_keys(os.environ['USER_PIN'])\n",
    "            submit_btn.click()\n",
    "            logging.info('Successfully logged in')\n",
    "        except:\n",
    "            logging.error('Login FAIL: Check credentials + 2FA cookie')\n",
    "            self.driver.close()\n",
    "\n",
    "    \n",
    "    def refresh_page(self):\n",
    "            self.driver.refresh()\n",
    "\n",
    "    def navi2_clock_page(self):\n",
    "        try:\n",
    "            punch_page = WebDriverWait(self.driver, 5).until(\n",
    "                EC.element_to_be_clickable((By.XPATH, '//ul[@class=\"cardLinks\"]/li/a[@href=\"/v4/ee/web.php/timeclock/WEB04\"]')))\n",
    "            punch_page.click()\n",
    "            if self.driver.title == 'Web Time Clock - Employee Self Service®':\n",
    "                print(\n",
    "                    'Timeclock [SUCCESS] : {' + str(dt.now().strftime(\"%H:%M:%S.%f\")) + '}')\n",
    "        except:\n",
    "            logging.error('Load TimeClock [FAIL] : Check XPATH...')\n",
    "            self.driver.close()\n",
    "\n",
    "        print(self.driver.page_source)\n",
    "\n",
    "    def punch_in(self, xpath):\n",
    "            try:\n",
    "                self.run_pcm()\n",
    "                punch_in_btn = WebDriverWait(self.driver, 10).until(\n",
    "                    EC.element_to_be_clickable((By.XPATH, xpath)))\n",
    "                print(self.driver.title)\n",
    "                punch_in_btn.click()\n",
    "                print(\n",
    "                    f'{punch_in_btn.text} [SUCCESS] : {dt.now().strftime(\"%H:%M:%S\")}')\n",
    "            except:\n",
    "                logging.error(\n",
    "                    f'Clock In [FAIL]: Button Not Found <{xpath}>')\n",
    "            print(self.driver.page_source)\n",
    "\n",
    "    def start_scheduler(self):\n",
    "        schedule.every().day.at(\"09:00\").do(lambda: self.punch_in(in_day))  # 9 AM EST\n",
    "        schedule.every(1.5).hour.do(lambda: logging.info('Refreshing Page...') self.driver.refresh())\n",
    "        schedule.every().day.at(\"12:00\").do(lambda: self.punch_in(out_lunch))  # 12 PM EST\n",
    "        schedule.every().day.at(\"13:00\").do(lambda: self.punch_in(in_lunch))  # 1 PM EST\n",
    "        schedule.every().day.at(\"17:59\").do(lambda: self.punch_in(out_day))  # 5:59 PM EST\n",
    "        logging.info('Scheduled ...')\n",
    "        while True:\n",
    "            schedule.run_pending()\n",
    "            time.sleep(1)\n",
    "\n",
    "    def get_cookies_values(self):\n",
    "        with open(gc_driver.cookie_path, encoding='utf-8-sig') as f:\n",
    "            dict_reader = DictReader(f)\n",
    "            list_of_dicts = list(dict_reader)\n",
    "        f.close()\n",
    "        return list_of_dicts\n",
    "\n",
    "    def load_cookies(self):\n",
    "        cook_keys = self.get_cookies_values()\n",
    "        for key in cook_keys:\n",
    "            try:\n",
    "                self.driver.add_cookie(key)\n",
    "            except:\n",
    "                logging.error(f'Adding Cookie Fail: {key} ')\n",
    "        self.driver.refresh()"
   ]
  },
  {
   "cell_type": "code",
   "execution_count": null,
   "metadata": {},
   "outputs": [],
   "source": [
    "script = gc_driver()\n",
    "script.boot_gc()"
   ]
  },
  {
   "cell_type": "code",
   "execution_count": null,
   "metadata": {},
   "outputs": [],
   "source": []
  }
 ],
 "metadata": {
  "kernelspec": {
   "display_name": ".venv",
   "language": "python",
   "name": "python3"
  },
  "language_info": {
   "codemirror_mode": {
    "name": "ipython",
    "version": 3
   },
   "file_extension": ".py",
   "mimetype": "text/x-python",
   "name": "python",
   "nbconvert_exporter": "python",
   "pygments_lexer": "ipython3",
   "version": "3.12.0"
  }
 },
 "nbformat": 4,
 "nbformat_minor": 2
}
